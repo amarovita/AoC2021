{
 "cells": [
  {
   "cell_type": "code",
   "execution_count": 1,
   "id": "83361e90-e17f-4b25-8dc0-3c4f49a0fbcd",
   "metadata": {},
   "outputs": [
    {
     "name": "stdout",
     "output_type": "stream",
     "text": [
      "2536453523344\n"
     ]
    }
   ],
   "source": [
    "data = open(\"AoC2021-16.input\").read()\n",
    "\n",
    "data = ''.join(bin(int(x, 16))[2:].zfill(4) for x in data.strip())\n",
    "\n",
    "def packet(data):\n",
    "    def tokenum(data, n):\n",
    "        return int(data[:n], 2), data[n:]\n",
    "    def token(data, n):\n",
    "        return data[:n], data[n:]\n",
    "    ret = ()\n",
    "    verid, data = tokenum(data, 3)\n",
    "    typeid, data = tokenum(data, 3)\n",
    "    if typeid == 4:\n",
    "        literal = ''\n",
    "        while True:\n",
    "            char, data = token(data, 5)\n",
    "            literal += char[1:]\n",
    "            if char[0] == '0':\n",
    "                break\n",
    "        ret = (verid, typeid, int(literal, 2))\n",
    "    else:\n",
    "        sizetype, data = tokenum(data, 1)\n",
    "        sizeval, data = tokenum(data, [15, 11][sizetype])\n",
    "        subpackets = []\n",
    "        if sizetype:\n",
    "            for _ in range(sizeval):\n",
    "                sp, data = packet(data)\n",
    "                if not sp:\n",
    "                    break\n",
    "                subpackets.append(sp)\n",
    "        else:\n",
    "            stopat = len(data) - sizeval\n",
    "            while len(data) > stopat:\n",
    "                sp, data = packet(data)\n",
    "                if not sp:\n",
    "                    break\n",
    "                subpackets.append(sp)\n",
    "        ret = (verid, typeid, subpackets)\n",
    "    return ret, data\n",
    "\n",
    "def sumver(p):\n",
    "    t = p[0]\n",
    "    if isinstance(p[2], list):\n",
    "        for x in p[2]:\n",
    "            t += sumver(x)\n",
    "    return t\n",
    "\n",
    "def calc(p):\n",
    "    if p[1] == 4:\n",
    "        return p[2]\n",
    "    elif p[1] == 0:\n",
    "        return sum(calc(x) for x in p[2])\n",
    "    elif p[1] == 1:\n",
    "        m = 1\n",
    "        for x in p[2]:\n",
    "            m *= calc(x)\n",
    "        return m\n",
    "    elif p[1] == 2:\n",
    "        return min(calc(x) for x in p[2])\n",
    "    elif p[1] == 3:\n",
    "        return max(calc(x) for x in p[2])\n",
    "    elif p[1] == 5:\n",
    "        return calc(p[2][0]) > calc(p[2][1])\n",
    "    elif p[1] == 6:\n",
    "        return calc(p[2][0]) < calc(p[2][1])\n",
    "    elif p[1] == 7:\n",
    "        return calc(p[2][0]) == calc(p[2][1])\n",
    "        \n",
    "    \n",
    "    \n",
    "p, data = packet(data)\n",
    "print(calc(p))\n"
   ]
  }
 ],
 "metadata": {
  "kernelspec": {
   "display_name": "Python 3 (ipykernel)",
   "language": "python",
   "name": "python3"
  },
  "language_info": {
   "codemirror_mode": {
    "name": "ipython",
    "version": 3
   },
   "file_extension": ".py",
   "mimetype": "text/x-python",
   "name": "python",
   "nbconvert_exporter": "python",
   "pygments_lexer": "ipython3",
   "version": "3.9.7"
  }
 },
 "nbformat": 4,
 "nbformat_minor": 5
}
