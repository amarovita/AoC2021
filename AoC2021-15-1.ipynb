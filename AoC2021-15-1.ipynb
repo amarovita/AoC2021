{
 "cells": [
  {
   "cell_type": "code",
   "execution_count": 11,
   "id": "83361e90-e17f-4b25-8dc0-3c4f49a0fbcd",
   "metadata": {},
   "outputs": [
    {
     "name": "stdout",
     "output_type": "stream",
     "text": [
      "592\n"
     ]
    }
   ],
   "source": [
    "data = open(\"AoC2021-15.input\").read()\n",
    "\n",
    "data = [list(map(int,d.strip())) for d in data.strip().splitlines()]\n",
    "\n",
    "W = len(data[0])\n",
    "H = len(data)\n",
    "\n",
    "walk = [[float('inf')] * (W+2) for _ in range(H+2)]\n",
    "\n",
    "walk[1][1] = data[0][0]\n",
    "\n",
    "def step(data, walk):\n",
    "    r = False\n",
    "    for x in range(W):\n",
    "        for y in range(H):\n",
    "            if walk[y+1][x+1] == walk[0][0]:\n",
    "                s = min(walk[y][x+1], walk[y+2][x+1], walk[y+1][x], walk[y+1][x+2])\n",
    "                if s != walk[0][0]:\n",
    "                    walk[y+1][x+1] = s + data[y][x]\n",
    "                    r = True\n",
    "    return r\n",
    "\n",
    "while step(data, walk):\n",
    "    if walk[H][W] != walk[0][0]:\n",
    "        print(walk[H][W]-walk[1][1])\n",
    "\n",
    "# print(*walk, sep='\\n')"
   ]
  }
 ],
 "metadata": {
  "kernelspec": {
   "display_name": "Python 3 (ipykernel)",
   "language": "python",
   "name": "python3"
  },
  "language_info": {
   "codemirror_mode": {
    "name": "ipython",
    "version": 3
   },
   "file_extension": ".py",
   "mimetype": "text/x-python",
   "name": "python",
   "nbconvert_exporter": "python",
   "pygments_lexer": "ipython3",
   "version": "3.9.7"
  }
 },
 "nbformat": 4,
 "nbformat_minor": 5
}
