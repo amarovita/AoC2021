{
 "cells": [
  {
   "cell_type": "code",
   "execution_count": 1,
   "id": "83361e90-e17f-4b25-8dc0-3c4f49a0fbcd",
   "metadata": {},
   "outputs": [
    {
     "name": "stdout",
     "output_type": "stream",
     "text": [
      "ONSVVHNCFVBHKVPCHCP\n",
      "3459174981021\n"
     ]
    }
   ],
   "source": [
    "from functools import lru_cache\n",
    "import sys\n",
    "\n",
    "data = open(\"AoC2021-14.input\").read()\n",
    "\n",
    "ks = set(x for x in data if x.isalpha())\n",
    "qd = dict.fromkeys(ks,0)\n",
    "\n",
    "\n",
    "poly, rules = data.split('\\n\\n')\n",
    "\n",
    "rules = [x.split(' -> ') for x in rules.splitlines()]\n",
    "rules = {x[0]: x[1] for x in rules}\n",
    "\n",
    "@lru_cache(maxsize=None)\n",
    "def add(l, r, n):\n",
    "    if not n:\n",
    "        return ((l, 1), )\n",
    "    else:\n",
    "        ret = dict(add(l, rules[l+r], n-1))\n",
    "        for k, v in add(rules[l+r], r, n-1):\n",
    "            ret[k] = ret.get(k, 0) + v\n",
    "        return tuple(ret.items())\n",
    "\n",
    "for l, r in zip(poly, poly[1:]):\n",
    "    print(l, end='')\n",
    "    sys.stdout.flush()\n",
    "    for k, v in add(l, r, 40):\n",
    "        qd[k] += v\n",
    "\n",
    "qd[poly[-1]] += 1\n",
    "\n",
    "kk = sorted(qd.keys(), key=qd.__getitem__)\n",
    "\n",
    "print()\n",
    "print(qd[kk[-1]] - qd[kk[0]])\n"
   ]
  }
 ],
 "metadata": {
  "kernelspec": {
   "display_name": "Python 3 (ipykernel)",
   "language": "python",
   "name": "python3"
  },
  "language_info": {
   "codemirror_mode": {
    "name": "ipython",
    "version": 3
   },
   "file_extension": ".py",
   "mimetype": "text/x-python",
   "name": "python",
   "nbconvert_exporter": "python",
   "pygments_lexer": "ipython3",
   "version": "3.9.7"
  }
 },
 "nbformat": 4,
 "nbformat_minor": 5
}
