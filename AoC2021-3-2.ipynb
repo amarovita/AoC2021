{
 "cells": [
  {
   "cell_type": "code",
   "execution_count": 36,
   "id": "0892a23b",
   "metadata": {},
   "outputs": [
    {
     "name": "stdout",
     "output_type": "stream",
     "text": [
      "101011101111 011001000001\n",
      "4481199\n"
     ]
    }
   ],
   "source": [
    "data = open(\"AoC2021-3.input\").read()\n",
    "data = [x.strip() for x in data.splitlines()]\n",
    "data2 = data.copy()\n",
    "\n",
    "for x in range(len(data[0])):\n",
    "    s = 0\n",
    "    for z in data:\n",
    "        s += z[x] == '1'\n",
    "    gr = '0' if (s < len(data) - s) else '1'\n",
    "    data = [z for z in data if z[x] == gr]\n",
    "    if len(data) == 1:\n",
    "        o2 = data[0]\n",
    "        break\n",
    "\n",
    "data = data2\n",
    "for x in range(len(data[0])):\n",
    "    s = 0\n",
    "    for z in data:\n",
    "        s += z[x] == '1'\n",
    "    gr = '1' if (s < len(data) - s) else '0'\n",
    "    data = [z for z in data if z[x] == gr]\n",
    "    if len(data) == 1:\n",
    "        co2 = data[0]\n",
    "        break\n",
    "\n",
    "print(o2, co2)\n",
    "print(int(o2, 2) * int(co2, 2))"
   ]
  }
 ],
 "metadata": {
  "kernelspec": {
   "display_name": "Python 3 (ipykernel)",
   "language": "python",
   "name": "python3"
  },
  "language_info": {
   "codemirror_mode": {
    "name": "ipython",
    "version": 3
   },
   "file_extension": ".py",
   "mimetype": "text/x-python",
   "name": "python",
   "nbconvert_exporter": "python",
   "pygments_lexer": "ipython3",
   "version": "3.9.7"
  }
 },
 "nbformat": 4,
 "nbformat_minor": 5
}
