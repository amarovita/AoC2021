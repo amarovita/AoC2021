{
 "cells": [
  {
   "cell_type": "code",
   "execution_count": 31,
   "id": "83361e90-e17f-4b25-8dc0-3c4f49a0fbcd",
   "metadata": {},
   "outputs": [
    {
     "name": "stdout",
     "output_type": "stream",
     "text": [
      "557\n"
     ]
    }
   ],
   "source": [
    "\n",
    "data = open(\"AoC2021-25.input\").read()\n",
    "\n",
    "data = data.strip().splitlines()\n",
    "\n",
    "data = [[z for z in x] for x in data]\n",
    "\n",
    "\n",
    "W = len(data[0])\n",
    "H = len(data)\n",
    "\n",
    "\n",
    "step = 0\n",
    "move = True\n",
    "while move:\n",
    "    step += 1\n",
    "    move = False\n",
    "    # print(f'\\r{step:8}', end='')\n",
    "    nd = [['.'] * W for _ in range(H)]\n",
    "    for y in range(H):\n",
    "        for x in range(W):\n",
    "            dx = (x + 1) % W\n",
    "            dy = y\n",
    "            if data[y][x] == 'v':\n",
    "                nd[y][x] = 'v'\n",
    "            elif data[y][x] == '>':\n",
    "                if data[dy][dx] == '.':\n",
    "                    nd[dy][dx] = '>'\n",
    "                    move = True\n",
    "                else:\n",
    "                    nd[y][x] = '>'\n",
    "    data = nd\n",
    "    nd = [['.'] * W for _ in range(H)]\n",
    "    for y in range(H):\n",
    "        for x in range(W):\n",
    "            dx = x\n",
    "            dy = (y + 1) % H\n",
    "            if data[y][x] == '>':\n",
    "                nd[y][x] = '>'\n",
    "            elif data[y][x] == 'v':\n",
    "                if data[dy][dx] == '.':\n",
    "                    nd[dy][dx] = 'v'\n",
    "                    move = True\n",
    "                else:\n",
    "                    nd[y][x] = 'v'\n",
    "    data = nd\n",
    "    # print(*[''.join(x) for x in data], sep='\\n', end='\\n\\n')\n",
    "\n",
    "\n",
    "# print(*[''.join(x) for x in data], sep='\\n', end='\\n\\n')\n",
    "# print()\n",
    "print(step)\n",
    "\n",
    "            \n"
   ]
  }
 ],
 "metadata": {
  "kernelspec": {
   "display_name": "Python 3 (ipykernel)",
   "language": "python",
   "name": "python3"
  },
  "language_info": {
   "codemirror_mode": {
    "name": "ipython",
    "version": 3
   },
   "file_extension": ".py",
   "mimetype": "text/x-python",
   "name": "python",
   "nbconvert_exporter": "python",
   "pygments_lexer": "ipython3",
   "version": "3.9.7"
  }
 },
 "nbformat": 4,
 "nbformat_minor": 5
}
