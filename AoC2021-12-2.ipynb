{
 "cells": [
  {
   "cell_type": "code",
   "execution_count": 13,
   "id": "83361e90-e17f-4b25-8dc0-3c4f49a0fbcd",
   "metadata": {},
   "outputs": [
    {
     "name": "stdout",
     "output_type": "stream",
     "text": [
      "94849\n"
     ]
    }
   ],
   "source": [
    "data = open(\"AoC2021-12.input\").read()\n",
    "\n",
    "data = [d.split('-') for d in data.splitlines()]\n",
    "\n",
    "caves = {}\n",
    "for d in data:\n",
    "    caves[d[0]] = caves.get(d[0], []) + [d[1]]\n",
    "    caves[d[1]] = caves.get(d[1], []) + [d[0]]\n",
    "\n",
    "large = {}\n",
    "for k in caves:\n",
    "    large[k] = k == k.upper()\n",
    "\n",
    "\n",
    "def valid(p):\n",
    "    tw = None\n",
    "    u = set(p)\n",
    "    r = True\n",
    "    for x in u:\n",
    "        if not large[x]:\n",
    "            if p.count(x) > 2:\n",
    "                r = False\n",
    "            elif p.count(x) == 2:\n",
    "                if tw:\n",
    "                    r = False\n",
    "                else:\n",
    "                    tw = x\n",
    "                    if tw in ['start', 'end']:\n",
    "                        r = False\n",
    "        if not r:\n",
    "            break\n",
    "    return r\n",
    "\n",
    "def path(p):\n",
    "    r = 0\n",
    "    for cave in caves[p[-1]]:\n",
    "        if cave == 'end':\n",
    "            r += 1\n",
    "        else:\n",
    "            n = p + [cave]\n",
    "            if valid(n):\n",
    "                r += path(n)\n",
    "    return r\n",
    "\n",
    "print(path(['start']))\n",
    "\n"
   ]
  }
 ],
 "metadata": {
  "kernelspec": {
   "display_name": "Python 3 (ipykernel)",
   "language": "python",
   "name": "python3"
  },
  "language_info": {
   "codemirror_mode": {
    "name": "ipython",
    "version": 3
   },
   "file_extension": ".py",
   "mimetype": "text/x-python",
   "name": "python",
   "nbconvert_exporter": "python",
   "pygments_lexer": "ipython3",
   "version": "3.9.7"
  }
 },
 "nbformat": 4,
 "nbformat_minor": 5
}
