{
 "cells": [
  {
   "cell_type": "code",
   "execution_count": 1,
   "id": "83361e90-e17f-4b25-8dc0-3c4f49a0fbcd",
   "metadata": {},
   "outputs": [
    {
     "name": "stdout",
     "output_type": "stream",
     "text": [
      "1698850445\n"
     ]
    }
   ],
   "source": [
    "data = open(\"AoC2021-2.input\").read()\n",
    "data = [x.split() for x in data.splitlines()]\n",
    "\n",
    "cd = {\n",
    "    'up': -1,\n",
    "    'down': 1,\n",
    "}\n",
    "x = h = aim = 0\n",
    "\n",
    "for c in data:\n",
    "    if c[0] == 'forward':\n",
    "        x += int(c[1])\n",
    "        h += int(c[1]) * aim\n",
    "    elif c[0] in cd:\n",
    "        aim += int(c[1]) * cd[c[0]]\n",
    "\n",
    "print(x*h)\n",
    "\n"
   ]
  }
 ],
 "metadata": {
  "kernelspec": {
   "display_name": "Python 3 (ipykernel)",
   "language": "python",
   "name": "python3"
  },
  "language_info": {
   "codemirror_mode": {
    "name": "ipython",
    "version": 3
   },
   "file_extension": ".py",
   "mimetype": "text/x-python",
   "name": "python",
   "nbconvert_exporter": "python",
   "pygments_lexer": "ipython3",
   "version": "3.9.7"
  }
 },
 "nbformat": 4,
 "nbformat_minor": 5
}
