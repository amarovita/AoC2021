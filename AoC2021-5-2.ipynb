{
 "cells": [
  {
   "cell_type": "code",
   "execution_count": 1,
   "id": "83361e90-e17f-4b25-8dc0-3c4f49a0fbcd",
   "metadata": {},
   "outputs": [
    {
     "name": "stdout",
     "output_type": "stream",
     "text": [
      "22364\n"
     ]
    }
   ],
   "source": [
    "from collections import defaultdict\n",
    "data = open(\"AoC2021-5.input\").read()\n",
    "data = [tuple(tuple(map(int, x.split(','))) for x in y.split('->')) for y in  data.splitlines()]\n",
    "\n",
    "sea = defaultdict(int)\n",
    "\n",
    "for line in data:\n",
    "    if line[0][0] == line[1][0]:\n",
    "        for y in range(min(line[0][1], line[1][1]), 1 + max(line[0][1], line[1][1])):\n",
    "            sea[(line[0][0], y)] += 1\n",
    "    elif line[0][1] == line[1][1]:\n",
    "        for x in range(min(line[0][0], line[1][0]), 1 + max(line[0][0], line[1][0])):\n",
    "            sea[(x, line[0][1])] += 1\n",
    "    elif abs(line[0][0] - line[1][0]) == abs(line[0][1]-line[1][1]):\n",
    "        l = abs(line[0][0] - line[1][0]) + 1\n",
    "        d = (\n",
    "                1 if line[0][0] < line[1][0] else -1,\n",
    "                1 if line[0][1] < line[1][1] else -1,\n",
    "            )\n",
    "        for s in range(l):\n",
    "            sea[(\n",
    "                line[0][0] + d[0] * s,\n",
    "                line[0][1] + d[1] * s\n",
    "            )] += 1\n",
    "            \n",
    "\n",
    "print(len([x for x in sea.values() if x > 1]))\n"
   ]
  },
  {
   "cell_type": "code",
   "execution_count": null,
   "id": "de0a2998",
   "metadata": {},
   "outputs": [],
   "source": []
  }
 ],
 "metadata": {
  "kernelspec": {
   "display_name": "Python 3 (ipykernel)",
   "language": "python",
   "name": "python3"
  },
  "language_info": {
   "codemirror_mode": {
    "name": "ipython",
    "version": 3
   },
   "file_extension": ".py",
   "mimetype": "text/x-python",
   "name": "python",
   "nbconvert_exporter": "python",
   "pygments_lexer": "ipython3",
   "version": "3.9.7"
  }
 },
 "nbformat": 4,
 "nbformat_minor": 5
}
