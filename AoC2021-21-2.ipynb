{
 "cells": [
  {
   "cell_type": "code",
   "execution_count": 1,
   "id": "83361e90-e17f-4b25-8dc0-3c4f49a0fbcd",
   "metadata": {},
   "outputs": [
    {
     "name": "stdout",
     "output_type": "stream",
     "text": [
      "\n",
      "274291038026362 135620348907779\n"
     ]
    }
   ],
   "source": [
    "from functools import lru_cache\n",
    "from collections import defaultdict \n",
    "\n",
    "@lru_cache(maxsize=None)\n",
    "def wins2(p1, s1, p2, s2,  n=1):\n",
    "    ret1 = defaultdict(int)\n",
    "    ret2 = defaultdict(int)\n",
    "    for dice in range(27):\n",
    "        sumdice = 3 + dice % 3 + dice // 3 % 3 + dice // 9 % 3\n",
    "        np1 = (p1 - 1 + sumdice) % 10 + 1\n",
    "        ns1 = s1 + np1\n",
    "        if ns1 >= 21:\n",
    "            ret1[n] += 1\n",
    "        else:\n",
    "            for dice2 in range(27):\n",
    "                sumdice = 3 + dice2 % 3 + dice2 // 3 % 3 + dice2 // 9 % 3\n",
    "                np2 = (p2 - 1 + sumdice) % 10 + 1\n",
    "                ns2 = s2 + np2\n",
    "                if ns2 >= 21:\n",
    "                    ret2[n] += 1\n",
    "                else:\n",
    "                    sub1, sub2 = wins2(np1, ns1, np2, ns2, n+1)\n",
    "                    for w in sub1:\n",
    "                        ret1[w] += sub1[w]\n",
    "                    for w in sub2:\n",
    "                        ret2[w] += sub2[w]\n",
    "    return ret1, ret2\n",
    "\n",
    "r1, r2 = wins2(10,0,7,0)\n",
    "print()\n",
    "print(sum(r1.values()), sum(r2.values()))\n"
   ]
  }
 ],
 "metadata": {
  "kernelspec": {
   "display_name": "Python 3 (ipykernel)",
   "language": "python",
   "name": "python3"
  },
  "language_info": {
   "codemirror_mode": {
    "name": "ipython",
    "version": 3
   },
   "file_extension": ".py",
   "mimetype": "text/x-python",
   "name": "python",
   "nbconvert_exporter": "python",
   "pygments_lexer": "ipython3",
   "version": "3.9.7"
  }
 },
 "nbformat": 4,
 "nbformat_minor": 5
}
