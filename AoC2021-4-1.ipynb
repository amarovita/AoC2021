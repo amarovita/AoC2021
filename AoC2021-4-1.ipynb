{
 "cells": [
  {
   "cell_type": "code",
   "execution_count": 22,
   "id": "83361e90-e17f-4b25-8dc0-3c4f49a0fbcd",
   "metadata": {},
   "outputs": [
    {
     "name": "stdout",
     "output_type": "stream",
     "text": [
      "38913\n"
     ]
    }
   ],
   "source": [
    "HWIN = 0b11111\n",
    "VWIN = 0b0000100001000010000100001\n",
    "\n",
    "data = open(\"AoC2021-4.input\").read()\n",
    "data = [x.strip() for x in data.splitlines()]\n",
    "\n",
    "calls = list(map(int, data[0].split(',')))\n",
    "\n",
    "data = data[2:]\n",
    "\n",
    "boards = []\n",
    "\n",
    "while data:\n",
    "    boards.append(list(map(int, ' '.join(data[:5]).split())))\n",
    "    data = data[6:]\n",
    "\n",
    "marks=[0] * len(boards)\n",
    "\n",
    "def winning(mark):\n",
    "    return any(((VWIN << x) & mark == (VWIN << x)) or ((HWIN << (x*5)) & mark == (HWIN << (x*5))) for x in range(5))\n",
    "\n",
    "def turn(num, boards, marks):\n",
    "    for x in range(len(boards)):\n",
    "        for z in range(25):\n",
    "            if boards[x][z] == num:\n",
    "                marks[x] |= (1 << z)\n",
    "\n",
    "def score(num, board, mark):\n",
    "    return num * sum(board[x] for x in range(25) if (mark & (1 << x)) == 0)\n",
    "\n",
    "for num in calls:\n",
    "    turn(num, boards, marks)\n",
    "    for x in range(len(boards)):\n",
    "        if winning(marks[x]):\n",
    "            print(score(num, boards[x], marks[x]))\n",
    "            break\n",
    "    else:\n",
    "        continue\n",
    "    break\n",
    "\n"
   ]
  }
 ],
 "metadata": {
  "kernelspec": {
   "display_name": "Python 3 (ipykernel)",
   "language": "python",
   "name": "python3"
  },
  "language_info": {
   "codemirror_mode": {
    "name": "ipython",
    "version": 3
   },
   "file_extension": ".py",
   "mimetype": "text/x-python",
   "name": "python",
   "nbconvert_exporter": "python",
   "pygments_lexer": "ipython3",
   "version": "3.9.7"
  }
 },
 "nbformat": 4,
 "nbformat_minor": 5
}
