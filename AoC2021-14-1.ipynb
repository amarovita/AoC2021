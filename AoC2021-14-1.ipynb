{
 "cells": [
  {
   "cell_type": "code",
   "execution_count": 6,
   "id": "83361e90-e17f-4b25-8dc0-3c4f49a0fbcd",
   "metadata": {},
   "outputs": [
    {
     "name": "stdout",
     "output_type": "stream",
     "text": [
      "3259\n"
     ]
    }
   ],
   "source": [
    "from collections import Counter\n",
    "data = open(\"AoC2021-14.input\").read()\n",
    "\n",
    "poly, rules = data.split('\\n\\n')\n",
    "\n",
    "rules = [x.split(' -> ') for x in rules.splitlines()]\n",
    "rules = {x[0]: x[0][0]+x[1] for x in rules}\n",
    "\n",
    "for gen in range(10):\n",
    "    n = []\n",
    "    for p, q in zip(poly, poly[1:]):\n",
    "        n.append(rules.get(p+q, p))\n",
    "    poly = ''.join(n) + q\n",
    "\n",
    "c = Counter(poly).most_common()\n",
    "\n",
    "print(c[0][1]-c[-1][1])\n"
   ]
  }
 ],
 "metadata": {
  "kernelspec": {
   "display_name": "Python 3 (ipykernel)",
   "language": "python",
   "name": "python3"
  },
  "language_info": {
   "codemirror_mode": {
    "name": "ipython",
    "version": 3
   },
   "file_extension": ".py",
   "mimetype": "text/x-python",
   "name": "python",
   "nbconvert_exporter": "python",
   "pygments_lexer": "ipython3",
   "version": "3.9.7"
  }
 },
 "nbformat": 4,
 "nbformat_minor": 5
}
