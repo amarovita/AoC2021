{
 "cells": [
  {
   "cell_type": "code",
   "execution_count": 1,
   "id": "83361e90-e17f-4b25-8dc0-3c4f49a0fbcd",
   "metadata": {},
   "outputs": [
    {
     "name": "stdout",
     "output_type": "stream",
     "text": [
      "101110100101 010001011010\n",
      "3320834\n"
     ]
    }
   ],
   "source": [
    "data = open(\"AoC2021-3.input\").read()\n",
    "data = [x.strip() for x in data.splitlines()]\n",
    "\n",
    "gr = ''\n",
    "for x in range(len(data[0])):\n",
    "    s = 0\n",
    "    for z in data:\n",
    "        s += z[x] == '1'\n",
    "    gr += '1' if (s > len(data) // 2) else '0'\n",
    "\n",
    "er = ''.join('0' if x == '1' else '1' for x in gr)\n",
    "print(gr, er)\n",
    "print(int(gr, 2) * int(er, 2))"
   ]
  }
 ],
 "metadata": {
  "kernelspec": {
   "display_name": "Python 3 (ipykernel)",
   "language": "python",
   "name": "python3"
  },
  "language_info": {
   "codemirror_mode": {
    "name": "ipython",
    "version": 3
   },
   "file_extension": ".py",
   "mimetype": "text/x-python",
   "name": "python",
   "nbconvert_exporter": "python",
   "pygments_lexer": "ipython3",
   "version": "3.9.7"
  }
 },
 "nbformat": 4,
 "nbformat_minor": 5
}
