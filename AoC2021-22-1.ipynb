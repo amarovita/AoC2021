{
 "cells": [
  {
   "cell_type": "code",
   "execution_count": 14,
   "id": "83361e90-e17f-4b25-8dc0-3c4f49a0fbcd",
   "metadata": {},
   "outputs": [
    {
     "name": "stdout",
     "output_type": "stream",
     "text": [
      "620241\n"
     ]
    }
   ],
   "source": [
    "from collections import defaultdict\n",
    "\n",
    "data = open(\"AoC2021-22.input\").read()\n",
    "\n",
    "data = [x.split() for x in data.strip().splitlines()]\n",
    "\n",
    "data = [(x=='on', tuple(tuple(map(int, z.split('=')[-1].split('..'))) for z in y.split(','))) for x, y in data]\n",
    "\n",
    "cubes = defaultdict(bool)\n",
    "\n",
    "for c in data:\n",
    "    if all(x[0]<=50 and x[1]>=-50 for x in c[1]):\n",
    "        x, y, z = c[1]\n",
    "        for i in range(max(x[0], -50), min(x[1], 50)+1):\n",
    "            for j in range(max(y[0], -50), min(y[1], 50)+1):\n",
    "                for k in range(max(z[0], -50), min(z[1], 50)+1):\n",
    "                    cubes[(i,j,k)] = c[0]\n",
    "\n",
    "\n",
    "print(sum(cubes.values()))\n"
   ]
  }
 ],
 "metadata": {
  "kernelspec": {
   "display_name": "Python 3 (ipykernel)",
   "language": "python",
   "name": "python3"
  },
  "language_info": {
   "codemirror_mode": {
    "name": "ipython",
    "version": 3
   },
   "file_extension": ".py",
   "mimetype": "text/x-python",
   "name": "python",
   "nbconvert_exporter": "python",
   "pygments_lexer": "ipython3",
   "version": "3.9.7"
  }
 },
 "nbformat": 4,
 "nbformat_minor": 5
}
