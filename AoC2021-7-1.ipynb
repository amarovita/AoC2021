{
 "cells": [
  {
   "cell_type": "code",
   "execution_count": 8,
   "id": "83361e90-e17f-4b25-8dc0-3c4f49a0fbcd",
   "metadata": {},
   "outputs": [
    {
     "name": "stdout",
     "output_type": "stream",
     "text": [
      "361 364898\n"
     ]
    }
   ],
   "source": [
    "from collections import defaultdict\n",
    "data = open(\"AoC2021-7.input\").read()\n",
    "data = list(map(int, data.split(',')))\n",
    "\n",
    "mf = float('inf')\n",
    "mx = 0\n",
    "\n",
    "for p in range(min(data), max(data) + 1):\n",
    "    f = sum(abs(x-p) for x in data)\n",
    "    if f < mf:\n",
    "        mx = p\n",
    "        mf = f\n",
    "\n",
    "print(mx, mf)\n"
   ]
  },
  {
   "cell_type": "code",
   "execution_count": 9,
   "id": "14eac237",
   "metadata": {},
   "outputs": [
    {
     "name": "stdout",
     "output_type": "stream",
     "text": [
      "361\n"
     ]
    }
   ],
   "source": []
  }
 ],
 "metadata": {
  "kernelspec": {
   "display_name": "Python 3 (ipykernel)",
   "language": "python",
   "name": "python3"
  },
  "language_info": {
   "codemirror_mode": {
    "name": "ipython",
    "version": 3
   },
   "file_extension": ".py",
   "mimetype": "text/x-python",
   "name": "python",
   "nbconvert_exporter": "python",
   "pygments_lexer": "ipython3",
   "version": "3.9.7"
  }
 },
 "nbformat": 4,
 "nbformat_minor": 5
}
