{
 "cells": [
  {
   "cell_type": "code",
   "execution_count": 2,
   "id": "83361e90-e17f-4b25-8dc0-3c4f49a0fbcd",
   "metadata": {},
   "outputs": [
    {
     "name": "stdout",
     "output_type": "stream",
     "text": [
      "19012\n"
     ]
    }
   ],
   "source": [
    "data = open(\"AoC2021-20.input\").read()\n",
    "\n",
    "algo, img = data.strip().split('\\n\\n')\n",
    "\n",
    "img = [list(x) for x in img.splitlines()]\n",
    "\n",
    "NC = str.maketrans('.#', '01')\n",
    "\n",
    "def pxneib(img, x, y, zero='.'):\n",
    "    ret = ''\n",
    "    for i in range(y-1, y+2):    \n",
    "        for j in range(x-1, x+2):\n",
    "            if (0<=j<len(img[0])) and (0<=i<len(img)):\n",
    "                ret += img[i][j]\n",
    "            else:\n",
    "                ret += zero\n",
    "    return int(ret.translate(NC), 2)\n",
    "\n",
    "def enchance(img, algo, zero = '.'):\n",
    "    ret = []\n",
    "    img = expand(img, zero)\n",
    "    for y in range(len(img)):\n",
    "        ln = []\n",
    "        for x in range(len(img[0])):\n",
    "            ln.append(algo[pxneib(img, x, y, zero)])\n",
    "        ret.append(ln)\n",
    "    return ret\n",
    "\n",
    "def sharp(img):\n",
    "    return sum(img[y][x]=='#' for y in range(len(img)) for x in range(len(img[0])))\n",
    "\n",
    "def expand(img, zero='.'):\n",
    "    ret = []\n",
    "    ret.append([zero] * (len(img[0])+2))\n",
    "    for l in img:\n",
    "        ret.append([zero]+l+[zero])\n",
    "    ret.append([zero] * (len(img[0])+2))\n",
    "    return ret\n",
    "\n",
    "for x in range(25):\n",
    "    img = enchance(img, algo)\n",
    "    img = enchance(img, algo, algo[0])\n",
    "\n",
    "print(sharp(img))\n"
   ]
  },
  {
   "cell_type": "code",
   "execution_count": 4,
   "id": "10f75499",
   "metadata": {},
   "outputs": [
    {
     "name": "stdout",
     "output_type": "stream",
     "text": [
      "[['.', '.', '.', '.', '.', '#', '.', '.', '.'], ['.', '.', '.', '.', '#', '.', '.', '.', '.'], ['.', '.', '.', '.', '.', '.', '#', '.', '.'], ['#', '.', '#', '.', '.', '.', '#', '.', '.'], ['.', '.', '#', '.', '.', '.', '#', '.', '.'], ['#', '#', '#', '#', '#', '.', '.', '.', '.'], ['#', '#', '.', '#', '.', '.', '.', '.', '.'], ['.', '.', '.', '.', '.', '.', '.', '.', '.'], ['.', '.', '.', '.', '.', '.', '.', '.', '.']]\n"
     ]
    },
    {
     "data": {
      "text/plain": [
       "0"
      ]
     },
     "execution_count": 4,
     "metadata": {},
     "output_type": "execute_result"
    }
   ],
   "source": [
    "print(img)\n",
    "pxneib(img, 0, 0)"
   ]
  }
 ],
 "metadata": {
  "kernelspec": {
   "display_name": "Python 3 (ipykernel)",
   "language": "python",
   "name": "python3"
  },
  "language_info": {
   "codemirror_mode": {
    "name": "ipython",
    "version": 3
   },
   "file_extension": ".py",
   "mimetype": "text/x-python",
   "name": "python",
   "nbconvert_exporter": "python",
   "pygments_lexer": "ipython3",
   "version": "3.9.7"
  }
 },
 "nbformat": 4,
 "nbformat_minor": 5
}
