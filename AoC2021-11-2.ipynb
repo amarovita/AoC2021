{
 "cells": [
  {
   "cell_type": "code",
   "execution_count": 3,
   "id": "83361e90-e17f-4b25-8dc0-3c4f49a0fbcd",
   "metadata": {},
   "outputs": [
    {
     "name": "stdout",
     "output_type": "stream",
     "text": [
      "285\n"
     ]
    }
   ],
   "source": [
    "data = open(\"AoC2021-11.input\").read()\n",
    "\n",
    "data = [list(map(int,x)) for x in data.splitlines()]\n",
    "\n",
    "def flash(data, x, y):\n",
    "    for j in range(max(0, y-1), min(len(data), y+2)):\n",
    "        for i in range(max(0, x-1), min(len(data[0]), x+2)):\n",
    "            if data[j][i]:\n",
    "                data[j][i] += 1\n",
    "    data[y][x] = 0\n",
    "        \n",
    "    \n",
    "def step(data):\n",
    "    for j in range(len(data)):\n",
    "        for i in range(len(data[0])):\n",
    "            data[j][i] += 1\n",
    "    s = 0\n",
    "    t = True\n",
    "    while t:\n",
    "        t = False\n",
    "        for j in range(len(data)):\n",
    "            for i in range(len(data[0])):\n",
    "                if data[j][i] > 9:\n",
    "                    s += 1\n",
    "                    flash(data, i, j)\n",
    "                    t = True\n",
    "    return s\n",
    "\n",
    "\n",
    "s = 0\n",
    "i = 0\n",
    "while True:\n",
    "    i += 1\n",
    "    s += step(data)\n",
    "    if all(all(x==0 for x in y) for y in data):\n",
    "        print(i)\n",
    "        break\n",
    "\n",
    "# print(s)"
   ]
  }
 ],
 "metadata": {
  "kernelspec": {
   "display_name": "Python 3 (ipykernel)",
   "language": "python",
   "name": "python3"
  },
  "language_info": {
   "codemirror_mode": {
    "name": "ipython",
    "version": 3
   },
   "file_extension": ".py",
   "mimetype": "text/x-python",
   "name": "python",
   "nbconvert_exporter": "python",
   "pygments_lexer": "ipython3",
   "version": "3.9.7"
  }
 },
 "nbformat": 4,
 "nbformat_minor": 5
}
