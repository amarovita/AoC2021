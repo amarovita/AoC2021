{
 "cells": [
  {
   "cell_type": "code",
   "execution_count": 30,
   "id": "83361e90-e17f-4b25-8dc0-3c4f49a0fbcd",
   "metadata": {},
   "outputs": [
    {
     "name": "stdout",
     "output_type": "stream",
     "text": [
      "994266\n"
     ]
    }
   ],
   "source": [
    "from itertools import permutations\n",
    "data = open(\"AoC2021-8.input\").read()\n",
    "data = [x.replace(' |', '').split() for x in data.splitlines()]\n",
    "\n",
    "seg=['abcefg', 'cf', 'acdeg', 'acdfg', 'bcdf', 'abdfg', 'abdefg', 'acf', 'abcdefg', 'abcdfg']\n",
    "\n",
    "def nums(z):\n",
    "    for x in permutations('abcdefg', 7):\n",
    "        t = str.maketrans('abcdefg', ''.join(x))\n",
    "        tz = [''.join(sorted(n.translate(t))) for n in z]\n",
    "        if all(n in seg for n in tz):\n",
    "            return [seg.index(n) for n in tz]\n",
    "\n",
    "s = 0\n",
    "for x in data:\n",
    "    s += int(''.join(map(str, nums(x)[-4:])))\n",
    "print(s)\n"
   ]
  }
 ],
 "metadata": {
  "kernelspec": {
   "display_name": "Python 3 (ipykernel)",
   "language": "python",
   "name": "python3"
  },
  "language_info": {
   "codemirror_mode": {
    "name": "ipython",
    "version": 3
   },
   "file_extension": ".py",
   "mimetype": "text/x-python",
   "name": "python",
   "nbconvert_exporter": "python",
   "pygments_lexer": "ipython3",
   "version": "3.9.7"
  }
 },
 "nbformat": 4,
 "nbformat_minor": 5
}
