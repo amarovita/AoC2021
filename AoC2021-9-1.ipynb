{
 "cells": [
  {
   "cell_type": "code",
   "execution_count": 5,
   "id": "83361e90-e17f-4b25-8dc0-3c4f49a0fbcd",
   "metadata": {},
   "outputs": [
    {
     "name": "stdout",
     "output_type": "stream",
     "text": [
      "500\n"
     ]
    }
   ],
   "source": [
    "data = open(\"AoC2021-9.input\").read()\n",
    "\n",
    "data = data.splitlines()\n",
    "data = [[int(y) for y in x] for x in data]\n",
    "\n",
    "def neibs(data, x, y):\n",
    "    res = []\n",
    "    if y > 0:\n",
    "        res.append(data[y-1][x])\n",
    "    if y < len(data) - 1:\n",
    "        res.append(data[y+1][x])\n",
    "    if x > 0:\n",
    "        res.append(data[y][x-1])\n",
    "    if x < len(data[y]) - 1:\n",
    "        res.append(data[y][x+1])\n",
    "    return res\n",
    "\n",
    "s = 0\n",
    "\n",
    "for y in range(len(data)):\n",
    "    for x in range(len(data[0])):\n",
    "        n = neibs(data, x, y)\n",
    "        if all(data[y][x] < z for z in n):\n",
    "            s += data[y][x] + 1\n",
    "\n",
    "print(s)\n"
   ]
  }
 ],
 "metadata": {
  "kernelspec": {
   "display_name": "Python 3 (ipykernel)",
   "language": "python",
   "name": "python3"
  },
  "language_info": {
   "codemirror_mode": {
    "name": "ipython",
    "version": 3
   },
   "file_extension": ".py",
   "mimetype": "text/x-python",
   "name": "python",
   "nbconvert_exporter": "python",
   "pygments_lexer": "ipython3",
   "version": "3.9.7"
  }
 },
 "nbformat": 4,
 "nbformat_minor": 5
}
