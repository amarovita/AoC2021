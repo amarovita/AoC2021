{
 "cells": [
  {
   "cell_type": "code",
   "execution_count": 4,
   "id": "83361e90-e17f-4b25-8dc0-3c4f49a0fbcd",
   "metadata": {},
   "outputs": [
    {
     "name": "stdout",
     "output_type": "stream",
     "text": [
      "543\n"
     ]
    }
   ],
   "source": [
    "data = open(\"AoC2021-8.input\").read()\n",
    "\n",
    "\n",
    "outs = [x.split() for x in [x.split(' | ')[1] for x in data.splitlines()]]\n",
    "print(len([x for y in outs for x in y if len(x) in (2, 3, 4, 7)]))"
   ]
  }
 ],
 "metadata": {
  "kernelspec": {
   "display_name": "Python 3 (ipykernel)",
   "language": "python",
   "name": "python3"
  },
  "language_info": {
   "codemirror_mode": {
    "name": "ipython",
    "version": 3
   },
   "file_extension": ".py",
   "mimetype": "text/x-python",
   "name": "python",
   "nbconvert_exporter": "python",
   "pygments_lexer": "ipython3",
   "version": "3.9.7"
  }
 },
 "nbformat": 4,
 "nbformat_minor": 5
}
