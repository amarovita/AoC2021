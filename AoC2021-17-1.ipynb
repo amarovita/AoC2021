{
 "cells": [
  {
   "cell_type": "code",
   "execution_count": 11,
   "id": "83361e90-e17f-4b25-8dc0-3c4f49a0fbcd",
   "metadata": {},
   "outputs": [
    {
     "name": "stdout",
     "output_type": "stream",
     "text": [
      "13 12246\n",
      "14 12246\n",
      "15 12246\n"
     ]
    }
   ],
   "source": [
    "import math\n",
    "\n",
    "data = open(\"AoC2021-17.input\").read()\n",
    "\n",
    "data = data.split(':')[1].strip()\n",
    "\n",
    "data = tuple(tuple(map(int, x.strip(',').split('=')[1].split('..'))) for x in data.split())\n",
    "\n",
    "minx = math.ceil(((data[0][0] * 8 + 1) ** 0.5 - 1) / 2)\n",
    "\n",
    "maxx = math.floor(((data[0][1] * 8 + 1) ** 0.5 - 1) / 2)\n",
    "\n",
    "for sx in range(minx, maxx + 1):\n",
    "    sy = 1\n",
    "    maxy = 0\n",
    "    while True:\n",
    "        cy = px = py = 0\n",
    "        x, y = sx, sy\n",
    "        hit = False\n",
    "        while py >= data[1][0]:\n",
    "            if py > cy:\n",
    "                cy = py\n",
    "            px += x\n",
    "            py += y\n",
    "            x = max(0, x-1)\n",
    "            y = y -1\n",
    "            if data[0][0]<=px<=data[0][1] and data[1][0]<=py<=data[1][1]:\n",
    "                maxy = cy\n",
    "                hit = True\n",
    "        if sy > 250:\n",
    "            break\n",
    "        sy += 1\n",
    "    print(sx, maxy)\n"
   ]
  }
 ],
 "metadata": {
  "kernelspec": {
   "display_name": "Python 3 (ipykernel)",
   "language": "python",
   "name": "python3"
  },
  "language_info": {
   "codemirror_mode": {
    "name": "ipython",
    "version": 3
   },
   "file_extension": ".py",
   "mimetype": "text/x-python",
   "name": "python",
   "nbconvert_exporter": "python",
   "pygments_lexer": "ipython3",
   "version": "3.9.7"
  }
 },
 "nbformat": 4,
 "nbformat_minor": 5
}
