{
 "cells": [
  {
   "cell_type": "code",
   "execution_count": 8,
   "id": "83361e90-e17f-4b25-8dc0-3c4f49a0fbcd",
   "metadata": {},
   "outputs": [
    {
     "name": "stdout",
     "output_type": "stream",
     "text": [
      "1708791884591\n"
     ]
    }
   ],
   "source": [
    "data = open(\"AoC2021-6.input\").read()\n",
    "data = list(map(int, data.split(',')))\n",
    "\n",
    "fish = {}\n",
    "\n",
    "for day in range(9):\n",
    "    fish[day] = data.count(day)\n",
    "for term in range(256):\n",
    "    newf = fish[0]\n",
    "    for age in range(8):\n",
    "        fish[age] = fish[age+1]\n",
    "    fish[6] += newf\n",
    "    fish[8] = newf\n",
    "\n",
    "print(sum(fish.values())) \n"
   ]
  },
  {
   "cell_type": "code",
   "execution_count": null,
   "id": "de0a2998",
   "metadata": {},
   "outputs": [],
   "source": []
  }
 ],
 "metadata": {
  "kernelspec": {
   "display_name": "Python 3 (ipykernel)",
   "language": "python",
   "name": "python3"
  },
  "language_info": {
   "codemirror_mode": {
    "name": "ipython",
    "version": 3
   },
   "file_extension": ".py",
   "mimetype": "text/x-python",
   "name": "python",
   "nbconvert_exporter": "python",
   "pygments_lexer": "ipython3",
   "version": "3.9.7"
  }
 },
 "nbformat": 4,
 "nbformat_minor": 5
}
