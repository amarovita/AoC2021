{
 "cells": [
  {
   "cell_type": "code",
   "execution_count": 2,
   "id": "83361e90-e17f-4b25-8dc0-3c4f49a0fbcd",
   "metadata": {},
   "outputs": [
    {
     "name": "stdout",
     "output_type": "stream",
     "text": [
      "***..*....*..*.****...**.***....**.****\n",
      "*..*.*....*..*.*.......*.*..*....*.*...\n",
      "***..*....****.***.....*.*..*....*.***.\n",
      "*..*.*....*..*.*.......*.***.....*.*...\n",
      "*..*.*....*..*.*....*..*.*....*..*.*...\n",
      "***..****.*..*.*.....**..*.....**..*...\n"
     ]
    }
   ],
   "source": [
    "data = open(\"AoC2021-13.input\").read()\n",
    "\n",
    "dots, folds = data.split('\\n\\n')\n",
    "\n",
    "dots = set(tuple(map(int,d.split(','))) for d in dots.splitlines())\n",
    "\n",
    "folds = [(x, int(y)) for z in folds.replace('fold along ', '').splitlines() for x, y in [z.split('=')]]\n",
    "\n",
    "# folds = folds[:1]\n",
    "\n",
    "for fold in folds:\n",
    "    ndots = set()\n",
    "    for dot in dots:\n",
    "        ndx = 0 if fold[0] == 'x' else 1\n",
    "        if dot[ndx] < fold[1]:\n",
    "            ndots.add(dot)\n",
    "        elif dot[ndx] > fold[1]:\n",
    "            dot = list(dot)\n",
    "            dot[ndx] = 2 * fold[1] - dot[ndx]\n",
    "            ndots.add(tuple(dot))\n",
    "    dots = ndots\n",
    "\n",
    "nx = min(d[0] for d in dots)\n",
    "mx = max(d[0] for d in dots)\n",
    "ny = min(d[1] for d in dots)\n",
    "my = max(d[1] for d in dots)\n",
    "\n",
    "sx = mx - nx + 1\n",
    "sy = my - ny + 1\n",
    "\n",
    "f = [['.'] * sx for _ in range(sy)]\n",
    "\n",
    "for dot in dots:\n",
    "    f[dot[1]][dot[0]] = '*'\n",
    "\n",
    "for l in f:\n",
    "    print(''.join(l))\n"
   ]
  }
 ],
 "metadata": {
  "kernelspec": {
   "display_name": "Python 3 (ipykernel)",
   "language": "python",
   "name": "python3"
  },
  "language_info": {
   "codemirror_mode": {
    "name": "ipython",
    "version": 3
   },
   "file_extension": ".py",
   "mimetype": "text/x-python",
   "name": "python",
   "nbconvert_exporter": "python",
   "pygments_lexer": "ipython3",
   "version": "3.9.7"
  }
 },
 "nbformat": 4,
 "nbformat_minor": 5
}
