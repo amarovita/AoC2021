{
 "cells": [
  {
   "cell_type": "code",
   "execution_count": 19,
   "id": "83361e90-e17f-4b25-8dc0-3c4f49a0fbcd",
   "metadata": {},
   "outputs": [
    {
     "name": "stdout",
     "output_type": "stream",
     "text": [
      "3528\n"
     ]
    }
   ],
   "source": [
    "import math\n",
    "\n",
    "data = open(\"AoC2021-17.input\").read()\n",
    "\n",
    "data = data.split(':')[1].strip()\n",
    "\n",
    "data = tuple(tuple(map(int, x.strip(',').split('=')[1].split('..'))) for x in data.split())\n",
    "\n",
    "minx = math.ceil(((data[0][0] * 8 + 1) ** 0.5 - 1) / 2)\n",
    "\n",
    "hits = 0\n",
    "for sx in range(minx, data[0][1]+1):\n",
    "     for sy in range(data[1][0], 250):\n",
    "        x, y = sx, sy\n",
    "        px = py = 0\n",
    "        while (px <= data[0][1]) and (py >= data[1][0]):\n",
    "            px += x\n",
    "            py += y\n",
    "            x = max(x-1, 0)\n",
    "            y -= 1\n",
    "            if (data[0][0]<=px<=data[0][1]) and (data[1][0]<=py<=data[1][1]):\n",
    "                hits += 1\n",
    "                break\n",
    "print(hits)\n"
   ]
  }
 ],
 "metadata": {
  "kernelspec": {
   "display_name": "Python 3 (ipykernel)",
   "language": "python",
   "name": "python3"
  },
  "language_info": {
   "codemirror_mode": {
    "name": "ipython",
    "version": 3
   },
   "file_extension": ".py",
   "mimetype": "text/x-python",
   "name": "python",
   "nbconvert_exporter": "python",
   "pygments_lexer": "ipython3",
   "version": "3.9.7"
  }
 },
 "nbformat": 4,
 "nbformat_minor": 5
}
