{
 "cells": [
  {
   "cell_type": "code",
   "execution_count": 9,
   "id": "83361e90-e17f-4b25-8dc0-3c4f49a0fbcd",
   "metadata": {},
   "outputs": [
    {
     "name": "stdout",
     "output_type": "stream",
     "text": [
      "970200\n"
     ]
    }
   ],
   "source": [
    "data = open(\"AoC2021-9.input\").read()\n",
    "\n",
    "data = data.splitlines()\n",
    "data = [[int(y) for y in x] for x in data]\n",
    "\n",
    "def neibs(data, x, y):\n",
    "    res = []\n",
    "    if y > 0:\n",
    "        res.append(data[y-1][x])\n",
    "    if y < len(data) - 1:\n",
    "        res.append(data[y+1][x])\n",
    "    if x > 0:\n",
    "        res.append(data[y][x-1])\n",
    "    if x < len(data[y]) - 1:\n",
    "        res.append(data[y][x+1])\n",
    "    return res\n",
    "\n",
    "def neibs2(data, x, y):\n",
    "    res = []\n",
    "    if y > 0:\n",
    "        if data[y-1][x] < 9:\n",
    "            res.append((x, y-1))\n",
    "    if y < len(data) - 1:\n",
    "        if data[y+1][x] < 9:\n",
    "            res.append((x, y+1))\n",
    "    if x > 0:\n",
    "        if data[y][x-1] < 9:\n",
    "            res.append((x-1, y))\n",
    "\n",
    "    if x < len(data[y]) - 1:\n",
    "        if data[y][x+1] < 9:\n",
    "            res.append((x+1, y))\n",
    "\n",
    "    return res\n",
    "\n",
    "def basin(data, x, y):\n",
    "    res = []\n",
    "    newres = [(x, y)]\n",
    "    while len(res) != len(newres):\n",
    "        res = newres.copy()\n",
    "        newres=[]\n",
    "        for p in res:\n",
    "            newres.append(p)\n",
    "            newres.extend(neibs2(data, p[0], p[1]))\n",
    "        newres = list(set(newres))\n",
    "    return newres\n",
    "    \n",
    "s = []\n",
    "\n",
    "for y in range(len(data)):\n",
    "    for x in range(len(data[0])):\n",
    "        n = neibs(data, x, y)\n",
    "        if all(data[y][x] < z for z in n):\n",
    "            s.append(tuple(sorted(basin(data, x, y))))\n",
    "\n",
    "s = list(set(s))\n",
    "\n",
    "l = sorted(list(map(len,s)))\n",
    "print(l[-1] * l[-2] * l[-3])\n"
   ]
  }
 ],
 "metadata": {
  "kernelspec": {
   "display_name": "Python 3 (ipykernel)",
   "language": "python",
   "name": "python3"
  },
  "language_info": {
   "codemirror_mode": {
    "name": "ipython",
    "version": 3
   },
   "file_extension": ".py",
   "mimetype": "text/x-python",
   "name": "python",
   "nbconvert_exporter": "python",
   "pygments_lexer": "ipython3",
   "version": "3.9.7"
  }
 },
 "nbformat": 4,
 "nbformat_minor": 5
}
