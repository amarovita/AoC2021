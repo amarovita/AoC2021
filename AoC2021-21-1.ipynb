{
 "cells": [
  {
   "cell_type": "code",
   "execution_count": 11,
   "id": "83361e90-e17f-4b25-8dc0-3c4f49a0fbcd",
   "metadata": {},
   "outputs": [
    {
     "name": "stdout",
     "output_type": "stream",
     "text": [
      "2 745 993 739785\n"
     ]
    }
   ],
   "source": [
    "p1, p2 = 10, 7\n",
    "\n",
    "# p1, p2 = 4, 8\n",
    "\n",
    "s1 = s2 = 0\n",
    "\n",
    "rolls = 0\n",
    "\n",
    "dies = []\n",
    "\n",
    "def roll(dies):\n",
    "    if dies:\n",
    "        return [((x + 2) % 100)+1 for x in dies]\n",
    "    else:\n",
    "        return [1, 2, 3]\n",
    "\n",
    "while True:\n",
    "    dies = roll(dies)\n",
    "    rolls += 3\n",
    "    p1 = (p1 + sum(dies)-1) % 10 + 1\n",
    "    s1 += p1\n",
    "    if s1 >= 1000:\n",
    "        print(2, s2, rolls, s2 * rolls)\n",
    "        break\n",
    "    dies = roll(dies)\n",
    "    rolls += 3\n",
    "    p2 = (p2 + sum(dies)-1) % 10 + 1\n",
    "    s2 += p2\n",
    "    if s2 >= 1000:\n",
    "        print(1, s1, rolls, s1 * rolls)\n",
    "        break\n",
    "    \n",
    "\n",
    "\n"
   ]
  },
  {
   "cell_type": "code",
   "execution_count": 10,
   "id": "10f75499",
   "metadata": {},
   "outputs": [
    {
     "data": {
      "text/plain": [
       "[]"
      ]
     },
     "execution_count": 10,
     "metadata": {},
     "output_type": "execute_result"
    }
   ],
   "source": [
    "dies"
   ]
  }
 ],
 "metadata": {
  "kernelspec": {
   "display_name": "Python 3 (ipykernel)",
   "language": "python",
   "name": "python3"
  },
  "language_info": {
   "codemirror_mode": {
    "name": "ipython",
    "version": 3
   },
   "file_extension": ".py",
   "mimetype": "text/x-python",
   "name": "python",
   "nbconvert_exporter": "python",
   "pygments_lexer": "ipython3",
   "version": "3.9.7"
  }
 },
 "nbformat": 4,
 "nbformat_minor": 5
}
