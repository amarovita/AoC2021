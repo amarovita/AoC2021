{
 "cells": [
  {
   "cell_type": "code",
   "execution_count": 1,
   "id": "83361e90-e17f-4b25-8dc0-3c4f49a0fbcd",
   "metadata": {},
   "outputs": [
    {
     "name": "stdout",
     "output_type": "stream",
     "text": [
      "387363\n"
     ]
    }
   ],
   "source": [
    "data = open(\"AoC2021-10.input\").read()\n",
    "\n",
    "data = data.splitlines()\n",
    "\n",
    "score = {\n",
    "    ')': 3,\n",
    "    ']': 57,\n",
    "    '}': 1197,\n",
    "    '>': 25137,\n",
    "}\n",
    "\n",
    "pairs = {\n",
    "    '(': ')',\n",
    "    '[': ']',\n",
    "    '{': '}',\n",
    "    '<': '>',\n",
    "}\n",
    "\n",
    "def check(st):\n",
    "    cl = ['']\n",
    "    n = 0\n",
    "    while n<len(st):\n",
    "        if st[n] in score:\n",
    "            if st[n] != pairs[cl.pop()]:\n",
    "                return score[st[n]]\n",
    "        else:\n",
    "            cl.append(st[n])\n",
    "        n += 1\n",
    "    return 0\n",
    "\n",
    "print(sum(check(d) for d in data))\n",
    "\n",
    "            "
   ]
  }
 ],
 "metadata": {
  "kernelspec": {
   "display_name": "Python 3 (ipykernel)",
   "language": "python",
   "name": "python3"
  },
  "language_info": {
   "codemirror_mode": {
    "name": "ipython",
    "version": 3
   },
   "file_extension": ".py",
   "mimetype": "text/x-python",
   "name": "python",
   "nbconvert_exporter": "python",
   "pygments_lexer": "ipython3",
   "version": "3.9.7"
  }
 },
 "nbformat": 4,
 "nbformat_minor": 5
}
