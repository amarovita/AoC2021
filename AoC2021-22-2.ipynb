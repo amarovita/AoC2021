{
 "cells": [
  {
   "cell_type": "code",
   "execution_count": 21,
   "id": "83361e90-e17f-4b25-8dc0-3c4f49a0fbcd",
   "metadata": {},
   "outputs": [
    {
     "name": "stdout",
     "output_type": "stream",
     "text": [
      "                        \n",
      "1284561759639324\n"
     ]
    }
   ],
   "source": [
    "data = open(\"AoC2021-22.input\").read()\n",
    "\n",
    "data = [x.split() for x in data.strip().splitlines()]\n",
    "\n",
    "data = [(x=='on', tuple(tuple(map(int, z.split('=')[-1].split('..'))) for z in y.split(','))) for x, y in data]\n",
    "\n",
    "data = data[::-1]\n",
    "\n",
    "intervals = [[], [], []]\n",
    "for c in data:\n",
    "    for x in range(3):\n",
    "        intervals[x].append(c[1][x][0])\n",
    "        intervals[x].append(c[1][x][1]+1)\n",
    "\n",
    "for x in range(3):\n",
    "    intervals[x] = sorted(set(intervals[x]))\n",
    "\n",
    "for x in range(3):\n",
    "    intervals[x] = list(zip(intervals[x], intervals[x][1:]))\n",
    "\n",
    "t = 0\n",
    "for x in intervals[0]:\n",
    "    print(f\"\\r{x[0]:8}\", end='', flush=True)\n",
    "    datax = [c for c in data if x[0]>=c[1][0][0] and x[1]<=c[1][0][1]+1]\n",
    "    if not datax:\n",
    "        continue\n",
    "    for y in intervals[1]:\n",
    "        datay = [c for c in datax if y[0]>=c[1][1][0] and y[1]<=c[1][1][1]+1]\n",
    "        if not datay:\n",
    "            continue\n",
    "        for z in intervals[2]:\n",
    "            try:\n",
    "                dataz = next(c for c in datay if z[0]>=c[1][2][0] and z[1]<=c[1][2][1]+1)\n",
    "                if dataz[0]:\n",
    "                    t += (x[1]-x[0])*(y[1]-y[0])*(z[1]-z[0])\n",
    "            except:\n",
    "                ...\n",
    "        \n",
    "print(f\"\\r{' ':24}\")\n",
    "print(t)\n",
    "\n"
   ]
  }
 ],
 "metadata": {
  "kernelspec": {
   "display_name": "Python 3 (ipykernel)",
   "language": "python",
   "name": "python3"
  },
  "language_info": {
   "codemirror_mode": {
    "name": "ipython",
    "version": 3
   },
   "file_extension": ".py",
   "mimetype": "text/x-python",
   "name": "python",
   "nbconvert_exporter": "python",
   "pygments_lexer": "ipython3",
   "version": "3.9.7"
  }
 },
 "nbformat": 4,
 "nbformat_minor": 5
}
